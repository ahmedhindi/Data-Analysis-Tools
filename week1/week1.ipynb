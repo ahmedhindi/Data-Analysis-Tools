{
 "cells": [
  {
   "cell_type": "code",
   "execution_count": 1,
   "metadata": {
    "collapsed": true
   },
   "outputs": [],
   "source": [
    "import pandas as pd\n",
    "import numpy as np \n",
    "import statsmodels.formula.api as smf\n",
    "import statsmodels.stats.multicomp as multi\n",
    "import matplotlib.pyplot as plt\n",
    "%matplotlib inline\n",
    "import seaborn"
   ]
  },
  {
   "cell_type": "code",
   "execution_count": 29,
   "metadata": {
    "collapsed": false
   },
   "outputs": [],
   "source": [
    "#reading the data \n",
    "data = pd.read_pickle('data.pickle')"
   ]
  },
  {
   "cell_type": "code",
   "execution_count": 31,
   "metadata": {
    "collapsed": false
   },
   "outputs": [
    {
     "data": {
      "text/html": [
       "<div>\n",
       "<table border=\"1\" class=\"dataframe\">\n",
       "  <thead>\n",
       "    <tr style=\"text-align: right;\">\n",
       "      <th></th>\n",
       "      <th>age_1st_mar</th>\n",
       "      <th>ETHNICITY</th>\n",
       "    </tr>\n",
       "  </thead>\n",
       "  <tbody>\n",
       "    <tr>\n",
       "      <th>0</th>\n",
       "      <td></td>\n",
       "      <td>hispanich</td>\n",
       "    </tr>\n",
       "    <tr>\n",
       "      <th>1</th>\n",
       "      <td>23</td>\n",
       "      <td>hispanich</td>\n",
       "    </tr>\n",
       "    <tr>\n",
       "      <th>2</th>\n",
       "      <td>35</td>\n",
       "      <td>hispanich</td>\n",
       "    </tr>\n",
       "    <tr>\n",
       "      <th>3</th>\n",
       "      <td></td>\n",
       "      <td>hispanich</td>\n",
       "    </tr>\n",
       "    <tr>\n",
       "      <th>4</th>\n",
       "      <td>22</td>\n",
       "      <td>black</td>\n",
       "    </tr>\n",
       "  </tbody>\n",
       "</table>\n",
       "</div>"
      ],
      "text/plain": [
       "  age_1st_mar  ETHNICITY\n",
       "0              hispanich\n",
       "1          23  hispanich\n",
       "2          35  hispanich\n",
       "3              hispanich\n",
       "4          22      black"
      ]
     },
     "execution_count": 31,
     "metadata": {},
     "output_type": "execute_result"
    }
   ],
   "source": [
    "sub1 = data[['age_1st_mar','ETHNICITY']]\n",
    "sub1.head()"
   ]
  },
  {
   "cell_type": "markdown",
   "metadata": {},
   "source": [
    "\n",
    "### *`age_1st_mar`  ->>  quantitative\n",
    "\n",
    "### *`ethnicity`         ->>   categorical "
   ]
  },
  {
   "cell_type": "markdown",
   "metadata": {},
   "source": [
    "## the relationship between ethnicity and the age of the first marriage \n",
    "#### * H0 → there is no relationship between  ethnicity and the age of the first marriage \n",
    "#### * H1 → there is a relationship between  ethnicity and the age of the first marriage \n",
    "\n",
    "\n",
    "##### since there is more than two level for our exploratory variable we must use post hoc \n",
    "##### will use ``tukey`` for this example  "
   ]
  },
  {
   "cell_type": "code",
   "execution_count": 36,
   "metadata": {
    "collapsed": false
   },
   "outputs": [
    {
     "name": "stderr",
     "output_type": "stream",
     "text": [
      "/home/data-sci/anaconda3/lib/python3.5/site-packages/ipykernel/__main__.py:2: FutureWarning: convert_objects is deprecated.  Use the data-type specific converters pd.to_datetime, pd.to_timedelta and pd.to_numeric.\n",
      "  from ipykernel import kernelapp as app\n"
     ]
    },
    {
     "data": {
      "text/plain": [
       "age_1st_mar    float64\n",
       "ETHNICITY       object\n",
       "dtype: object"
      ]
     },
     "execution_count": 36,
     "metadata": {},
     "output_type": "execute_result"
    }
   ],
   "source": [
    "sub1 = sub1.replace(0,np.NAN).dropna()\n",
    "sub1['age_1st_mar'] = sub1['age_1st_mar'].convert_objects(convert_numeric=True)\n",
    "sub1.dtypes"
   ]
  },
  {
   "cell_type": "code",
   "execution_count": 33,
   "metadata": {
    "collapsed": false
   },
   "outputs": [
    {
     "name": "stdout",
     "output_type": "stream",
     "text": [
      "           age_1st_mar\n",
      "ETHNICITY             \n",
      "asian        27.510783\n",
      "black        25.904817\n",
      "hawaian      24.563218\n",
      "hispanich    24.003022\n",
      "indian       23.134467\n",
      "white        23.973974\n"
     ]
    }
   ],
   "source": [
    "means = sub1.groupby(sub1.ETHNICITY).mean()\n",
    "print(means)"
   ]
  },
  {
   "cell_type": "code",
   "execution_count": 34,
   "metadata": {
    "collapsed": false
   },
   "outputs": [
    {
     "data": {
      "text/plain": [
       "<matplotlib.text.Text at 0x7f620471b128>"
      ]
     },
     "execution_count": 34,
     "metadata": {},
     "output_type": "execute_result"
    },
    {
     "data": {
      "image/png": "[encoded data removed]",
      "text/plain": [
       "<matplotlib.figure.Figure at 0x7f62046fa390>"
      ]
     },
     "metadata": {},
     "output_type": "display_data"
    }
   ],
   "source": [
    "seaborn.barplot(x=means.age_1st_mar,y=means.index)\n",
    "plt.title(\"the means of the age at first marriage for different ethnicities \")\n",
    "plt.xlabel(\"age at first marriage\")\n",
    "plt.ylabel(\"ethnicity\")"
   ]
  },
  {
   "cell_type": "code",
   "execution_count": 37,
   "metadata": {
    "collapsed": false
   },
   "outputs": [
    {
     "name": "stdout",
     "output_type": "stream",
     "text": [
      " Multiple Comparison of Means - Tukey HSD,FWER=0.05\n",
      "===================================================\n",
      "  group1    group2  meandiff  lower   upper  reject\n",
      "---------------------------------------------------\n",
      "  asian     black    -1.606  -2.7593 -0.4527  True \n",
      "  asian    hawaian  -2.9476  -6.5035  0.6084 False \n",
      "  asian   hispanich -3.5078  -4.6499 -2.3656  True \n",
      "  asian     indian  -4.3763  -6.0146 -2.7381  True \n",
      "  asian     white   -3.5368  -4.6265 -2.4471  True \n",
      "  black    hawaian  -1.3416  -4.7624  2.0792 False \n",
      "  black   hispanich -1.9018  -2.5033 -1.3003  True \n",
      "  black     indian  -2.7704  -4.0899 -1.4508  True \n",
      "  black     white   -1.9308  -2.4256 -1.4361  True \n",
      " hawaian  hispanich -0.5602  -3.9772  2.8568 False \n",
      " hawaian    indian  -1.4288   -5.042  2.1845 False \n",
      " hawaian    white   -0.5892  -3.9891  2.8106 False \n",
      "hispanich   indian  -0.8686  -2.1783  0.4412 False \n",
      "hispanich   white    -0.029  -0.4972  0.4391 False \n",
      "  indian    white    0.8395  -0.4248  2.1038 False \n",
      "---------------------------------------------------\n"
     ]
    }
   ],
   "source": [
    "\n",
    "mc1 = multi.MultiComparison(sub1['age_1st_mar'], sub1['ETHNICITY'])\n",
    "res1 = mc1.tukeyhsd()\n",
    "print(res1.summary())\n"
   ]
  },
  {
   "cell_type": "markdown",
   "metadata": {},
   "source": [
    "### reject the null hypothesis and accept the alternative for \n",
    "#####                                    asian    ___    black \n",
    "#####                                    asian    ___    hispanich \n",
    "#####                                    asian    ___    indian \n",
    "#####                                    asian    ___    white \n",
    "#####                                    black    ___    hispanich\n",
    "#####                                    black    ___   indian \n",
    "#####                                    black    ___    white  \n",
    "\n",
    "### accept the null hypothesis for\n",
    "\n",
    "   \n",
    "#####                                    asian     ___       hawaian     \n",
    "#####                                    black     ___       hawaian    \n",
    "#####                                    hawaian ___       hispanich  \n",
    "#####                                    hawaian ___       indian     \n",
    "#####                                    hawaian ___      white      \n",
    "#####                                    hispanich ___  indian     \n",
    "#####                                    hispanich___   white      \n",
    "#####                                    indian     ___    white  \n",
    "\n",
    "\n",
    "\n",
    "    "
   ]
  }
 ],
 "metadata": {
  "anaconda-cloud": {},
  "kernelspec": {
   "display_name": "Python [Root]",
   "language": "python",
   "name": "Python [Root]"
  },
  "language_info": {
   "codemirror_mode": {
    "name": "ipython",
    "version": 3
   },
   "file_extension": ".py",
   "mimetype": "text/x-python",
   "name": "python",
   "nbconvert_exporter": "python",
   "pygments_lexer": "ipython3",
   "version": "3.5.2"
  }
 },
 "nbformat": 4,
 "nbformat_minor": 0
}
